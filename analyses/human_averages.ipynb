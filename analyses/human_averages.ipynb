{
 "cells": [
  {
   "cell_type": "code",
   "execution_count": 1,
   "metadata": {},
   "outputs": [],
   "source": [
    "__depends__ = [\"../results/human.csv\"]\n",
    "__dest__ = [\"../results/human_averages.csv\", \"../figures/human_averages.pdf\"]"
   ]
  },
  {
   "cell_type": "code",
   "execution_count": 2,
   "metadata": {},
   "outputs": [],
   "source": [
    "%matplotlib inline\n",
    "import pandas as pd\n",
    "import matplotlib.pyplot as plt\n",
    "import seaborn as sns\n",
    "import numpy as np\n",
    "import util\n",
    "import os\n",
    "np.random.seed(1)"
   ]
  },
  {
   "cell_type": "code",
   "execution_count": 3,
   "metadata": {},
   "outputs": [
    {
     "data": {
      "text/html": [
       "<div>\n",
       "<style scoped>\n",
       "    .dataframe tbody tr th:only-of-type {\n",
       "        vertical-align: middle;\n",
       "    }\n",
       "\n",
       "    .dataframe tbody tr th {\n",
       "        vertical-align: top;\n",
       "    }\n",
       "\n",
       "    .dataframe thead th {\n",
       "        text-align: right;\n",
       "    }\n",
       "</style>\n",
       "<table border=\"1\" class=\"dataframe\">\n",
       "  <thead>\n",
       "    <tr style=\"text-align: right;\">\n",
       "      <th></th>\n",
       "      <th>participant</th>\n",
       "      <th>stimulus</th>\n",
       "      <th>rt</th>\n",
       "      <th>timestamp</th>\n",
       "      <th>trial</th>\n",
       "      <th>x</th>\n",
       "      <th>y</th>\n",
       "    </tr>\n",
       "  </thead>\n",
       "  <tbody>\n",
       "    <tr>\n",
       "      <th>0</th>\n",
       "      <td>0</td>\n",
       "      <td>0</td>\n",
       "      <td>712.311705</td>\n",
       "      <td>2016-07-12 19:37:56.981191</td>\n",
       "      <td>33</td>\n",
       "      <td>0.000000</td>\n",
       "      <td>0.033065</td>\n",
       "    </tr>\n",
       "    <tr>\n",
       "      <th>1</th>\n",
       "      <td>0</td>\n",
       "      <td>1</td>\n",
       "      <td>494.589488</td>\n",
       "      <td>2016-07-12 19:37:56.981200</td>\n",
       "      <td>4</td>\n",
       "      <td>0.028571</td>\n",
       "      <td>0.004840</td>\n",
       "    </tr>\n",
       "    <tr>\n",
       "      <th>2</th>\n",
       "      <td>0</td>\n",
       "      <td>2</td>\n",
       "      <td>431.101076</td>\n",
       "      <td>2016-07-12 19:37:56.981202</td>\n",
       "      <td>12</td>\n",
       "      <td>0.057143</td>\n",
       "      <td>0.006987</td>\n",
       "    </tr>\n",
       "    <tr>\n",
       "      <th>3</th>\n",
       "      <td>0</td>\n",
       "      <td>3</td>\n",
       "      <td>606.345633</td>\n",
       "      <td>2016-07-12 19:37:56.981204</td>\n",
       "      <td>15</td>\n",
       "      <td>0.085714</td>\n",
       "      <td>0.005401</td>\n",
       "    </tr>\n",
       "    <tr>\n",
       "      <th>4</th>\n",
       "      <td>0</td>\n",
       "      <td>4</td>\n",
       "      <td>919.631913</td>\n",
       "      <td>2016-07-12 19:37:56.981205</td>\n",
       "      <td>24</td>\n",
       "      <td>0.114286</td>\n",
       "      <td>0.047801</td>\n",
       "    </tr>\n",
       "  </tbody>\n",
       "</table>\n",
       "</div>"
      ],
      "text/plain": [
       "   participant  stimulus          rt                   timestamp  trial  \\\n",
       "0            0         0  712.311705  2016-07-12 19:37:56.981191     33   \n",
       "1            0         1  494.589488  2016-07-12 19:37:56.981200      4   \n",
       "2            0         2  431.101076  2016-07-12 19:37:56.981202     12   \n",
       "3            0         3  606.345633  2016-07-12 19:37:56.981204     15   \n",
       "4            0         4  919.631913  2016-07-12 19:37:56.981205     24   \n",
       "\n",
       "          x         y  \n",
       "0  0.000000  0.033065  \n",
       "1  0.028571  0.004840  \n",
       "2  0.057143  0.006987  \n",
       "3  0.085714  0.005401  \n",
       "4  0.114286  0.047801  "
      ]
     },
     "execution_count": 3,
     "metadata": {},
     "output_type": "execute_result"
    }
   ],
   "source": [
    "# Load in the data\n",
    "data = pd.read_csv(__depends__[0])\n",
    "data.head()"
   ]
  },
  {
   "cell_type": "code",
   "execution_count": 4,
   "metadata": {},
   "outputs": [
    {
     "data": {
      "text/html": [
       "<div>\n",
       "<style scoped>\n",
       "    .dataframe tbody tr th:only-of-type {\n",
       "        vertical-align: middle;\n",
       "    }\n",
       "\n",
       "    .dataframe tbody tr th {\n",
       "        vertical-align: top;\n",
       "    }\n",
       "\n",
       "    .dataframe thead th {\n",
       "        text-align: right;\n",
       "    }\n",
       "</style>\n",
       "<table border=\"1\" class=\"dataframe\">\n",
       "  <thead>\n",
       "    <tr style=\"text-align: right;\">\n",
       "      <th></th>\n",
       "      <th>x</th>\n",
       "      <th>lower</th>\n",
       "      <th>median</th>\n",
       "      <th>upper</th>\n",
       "      <th>mean</th>\n",
       "      <th>lerr</th>\n",
       "      <th>uerr</th>\n",
       "    </tr>\n",
       "    <tr>\n",
       "      <th>stimulus</th>\n",
       "      <th></th>\n",
       "      <th></th>\n",
       "      <th></th>\n",
       "      <th></th>\n",
       "      <th></th>\n",
       "      <th></th>\n",
       "      <th></th>\n",
       "    </tr>\n",
       "  </thead>\n",
       "  <tbody>\n",
       "    <tr>\n",
       "      <th>0</th>\n",
       "      <td>0.000000</td>\n",
       "      <td>0.008356</td>\n",
       "      <td>0.011539</td>\n",
       "      <td>0.015389</td>\n",
       "      <td>0.011696</td>\n",
       "      <td>0.003340</td>\n",
       "      <td>0.003694</td>\n",
       "    </tr>\n",
       "    <tr>\n",
       "      <th>1</th>\n",
       "      <td>0.028571</td>\n",
       "      <td>0.009862</td>\n",
       "      <td>0.012827</td>\n",
       "      <td>0.016178</td>\n",
       "      <td>0.012913</td>\n",
       "      <td>0.003051</td>\n",
       "      <td>0.003265</td>\n",
       "    </tr>\n",
       "    <tr>\n",
       "      <th>2</th>\n",
       "      <td>0.057143</td>\n",
       "      <td>0.014842</td>\n",
       "      <td>0.018581</td>\n",
       "      <td>0.023324</td>\n",
       "      <td>0.018709</td>\n",
       "      <td>0.003866</td>\n",
       "      <td>0.004616</td>\n",
       "    </tr>\n",
       "    <tr>\n",
       "      <th>3</th>\n",
       "      <td>0.085714</td>\n",
       "      <td>0.020169</td>\n",
       "      <td>0.026024</td>\n",
       "      <td>0.033465</td>\n",
       "      <td>0.026261</td>\n",
       "      <td>0.006093</td>\n",
       "      <td>0.007204</td>\n",
       "    </tr>\n",
       "    <tr>\n",
       "      <th>4</th>\n",
       "      <td>0.114286</td>\n",
       "      <td>0.027964</td>\n",
       "      <td>0.035505</td>\n",
       "      <td>0.045211</td>\n",
       "      <td>0.035916</td>\n",
       "      <td>0.007953</td>\n",
       "      <td>0.009295</td>\n",
       "    </tr>\n",
       "  </tbody>\n",
       "</table>\n",
       "</div>"
      ],
      "text/plain": [
       "                 x     lower    median     upper      mean      lerr      uerr\n",
       "stimulus                                                                      \n",
       "0         0.000000  0.008356  0.011539  0.015389  0.011696  0.003340  0.003694\n",
       "1         0.028571  0.009862  0.012827  0.016178  0.012913  0.003051  0.003265\n",
       "2         0.057143  0.014842  0.018581  0.023324  0.018709  0.003866  0.004616\n",
       "3         0.085714  0.020169  0.026024  0.033465  0.026261  0.006093  0.007204\n",
       "4         0.114286  0.027964  0.035505  0.045211  0.035916  0.007953  0.009295"
      ]
     },
     "execution_count": 4,
     "metadata": {},
     "output_type": "execute_result"
    }
   ],
   "source": [
    "# Compute the mean for each stimulus, with bootstrapped 95% confidence intervals\n",
    "means = data.groupby([\"stimulus\", \"x\"])[\"y\"].apply(util.bootmean).unstack().reset_index(\"x\")\n",
    "means.to_csv(__dest__[0])\n",
    "means.head()"
   ]
  },
  {
   "cell_type": "code",
   "execution_count": 5,
   "metadata": {},
   "outputs": [
    {
     "data": {
      "text/plain": [
       "lower     0.972983\n",
       "median    0.980742\n",
       "upper     0.986749\n",
       "corr      0.980247\n",
       "dtype: float64"
      ]
     },
     "execution_count": 5,
     "metadata": {},
     "output_type": "execute_result"
    }
   ],
   "source": [
    "# Compute the correlation between the stimulus intensity (x) and the mean responses, with\n",
    "# bootstrapped 95% confidence intervals\n",
    "corrs = util.bootcorr(means[\"x\"], means[\"mean\"])\n",
    "corrs.head()"
   ]
  },
  {
   "cell_type": "code",
   "execution_count": 6,
   "metadata": {},
   "outputs": [
    {
     "data": {
      "image/png": "[encoded data removed]",
      "text/plain": [
       "<Figure size 576x432 with 1 Axes>"
      ]
     },
     "metadata": {},
     "output_type": "display_data"
    }
   ],
   "source": [
    "# Plot the averaged human data with error bars plus correlation\n",
    "sns.set_style(\"white\")\n",
    "sns.set_context(\"talk\")\n",
    "\n",
    "fig, ax = plt.subplots()\n",
    "ax.errorbar(\n",
    "    means[\"x\"], means[\"mean\"], \n",
    "    yerr=[means[\"lerr\"], means[\"uerr\"]], \n",
    "    marker='o', linestyle='')\n",
    "ax.set_xlabel(\"Stimulus intensity\")\n",
    "ax.set_ylabel(\"Mean response\")\n",
    "corrstr = r\"$r={corr:.2f},\\ 95\\%\\ \\mathrm{{CI}}\\ [{lower:.2f}, {upper:.2f}]$\".format(**corrs)\n",
    "ax.text(1, 0.02, corrstr, horizontalalignment='right')\n",
    "\n",
    "sns.despine()\n",
    "fig.set_size_inches(8, 6)\n",
    "\n",
    "if not os.path.exists(os.path.dirname(__dest__[1])):\n",
    "    os.makedirs(os.path.dirname(__dest__[1]))\n",
    "plt.savefig(__dest__[1])"
   ]
  }
 ],
 "metadata": {
  "kernelspec": {
   "display_name": "Python 2",
   "language": "python",
   "name": "python2"
  },
  "language_info": {
   "codemirror_mode": {
    "name": "ipython",
    "version": 2
   },
   "file_extension": ".py",
   "mimetype": "text/x-python",
   "name": "python",
   "nbconvert_exporter": "python",
   "pygments_lexer": "ipython2",
   "version": "2.7.12"
  }
 },
 "nbformat": 4,
 "nbformat_minor": 1
}
